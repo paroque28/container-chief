{
 "cells": [
  {
   "cell_type": "code",
   "execution_count": 1,
   "metadata": {},
   "outputs": [],
   "source": [
    "import paho.mqtt.client as mqtt"
   ]
  },
  {
   "cell_type": "code",
   "execution_count": 2,
   "metadata": {},
   "outputs": [],
   "source": [
    "client = mqtt.Client(\"P1\")"
   ]
  },
  {
   "cell_type": "code",
   "execution_count": 3,
   "metadata": {},
   "outputs": [
    {
     "data": {
      "text/plain": [
       "0"
      ]
     },
     "execution_count": 3,
     "metadata": {},
     "output_type": "execute_result"
    }
   ],
   "source": [
    "client.connect(\"localhost\")"
   ]
  },
  {
   "cell_type": "code",
   "execution_count": 4,
   "metadata": {},
   "outputs": [
    {
     "data": {
      "text/plain": [
       "(0, 1)"
      ]
     },
     "execution_count": 4,
     "metadata": {},
     "output_type": "execute_result"
    }
   ],
   "source": [
    "client.subscribe(\"house/bulbs/bulb1\")"
   ]
  },
  {
   "cell_type": "code",
   "execution_count": 5,
   "metadata": {},
   "outputs": [],
   "source": [
    "def on_message(client, userdata, message):\n",
    "    print(\"message received \" ,str(message.payload.decode(\"utf-8\")))\n",
    "    print(\"message topic=\",message.topic)\n",
    "    print(\"message qos=\",message.qos)\n",
    "    print(\"message retain flag=\",message.retain)\n",
    "client.on_message=on_message\n",
    "def on_log(client, userdata, level, buf):\n",
    "    print(\"log: \",buf)\n",
    "client.on_log=on_log"
   ]
  },
  {
   "cell_type": "code",
   "execution_count": 6,
   "metadata": {},
   "outputs": [
    {
     "name": "stdout",
     "output_type": "stream",
     "text": [
      "log:  Sending PUBLISH (d0, q0, r0, m2), 'b'house/bulbs/bulb1'', ... (3 bytes)\n"
     ]
    },
    {
     "data": {
      "text/plain": [
       "<paho.mqtt.client.MQTTMessageInfo at 0x7efd306e9f40>"
      ]
     },
     "execution_count": 6,
     "metadata": {},
     "output_type": "execute_result"
    }
   ],
   "source": [
    "client.publish(\"house/bulbs/bulb1\",\"OFF\")"
   ]
  },
  {
   "cell_type": "code",
   "execution_count": 7,
   "metadata": {},
   "outputs": [
    {
     "name": "stdout",
     "output_type": "stream",
     "text": [
      "log:  Received CONNACK (0, 0)\n",
      "log:  Received SUBACK\n",
      "log:  Received PUBLISH (d0, q0, r0, m0), 'house/bulbs/bulb1', ...  (3 bytes)\n",
      "message received  OFF\n",
      "message topic= house/bulbs/bulb1\n",
      "message qos= 0\n",
      "message retain flag= 0\n",
      "log:  Sending PINGREQ\n",
      "log:  Received PINGRESP\n",
      "log:  Sending PINGREQ\n",
      "log:  Received PINGRESP\n",
      "log:  Sending PINGREQ\n",
      "log:  Received PINGRESP\n",
      "log:  Sending PINGREQ\n",
      "log:  Received PINGRESP\n",
      "log:  Sending PINGREQ\n",
      "log:  Received PINGRESP\n",
      "log:  Sending PINGREQ\n",
      "log:  Received PINGRESP\n",
      "log:  Sending PINGREQ\n",
      "log:  Received PINGRESP\n",
      "log:  Sending PINGREQ\n",
      "log:  Received PINGRESP\n",
      "log:  Sending PINGREQ\n",
      "log:  Received PINGRESP\n",
      "log:  Sending PINGREQ\n",
      "log:  Received PINGRESP\n",
      "log:  Sending PINGREQ\n",
      "log:  Received PINGRESP\n",
      "log:  Sending PINGREQ\n",
      "log:  Received PINGRESP\n",
      "log:  Sending PINGREQ\n",
      "log:  Received PINGRESP\n",
      "log:  Sending PINGREQ\n",
      "log:  Received PINGRESP\n",
      "log:  Sending PINGREQ\n",
      "log:  Received PINGRESP\n",
      "log:  Sending PINGREQ\n",
      "log:  Received PINGRESP\n",
      "log:  Sending PINGREQ\n",
      "log:  Received PINGRESP\n"
     ]
    }
   ],
   "source": [
    "\n",
    "client.loop_start()"
   ]
  }
 ],
 "metadata": {
  "interpreter": {
   "hash": "df0893f56f349688326838aaeea0de204df53a132722cbd565e54b24a8fec5f6"
  },
  "kernelspec": {
   "display_name": "Python 3.8.12 64-bit",
   "language": "python",
   "name": "python3"
  },
  "language_info": {
   "codemirror_mode": {
    "name": "ipython",
    "version": 3
   },
   "file_extension": ".py",
   "mimetype": "text/x-python",
   "name": "python",
   "nbconvert_exporter": "python",
   "pygments_lexer": "ipython3",
   "version": "3.8.10"
  },
  "orig_nbformat": 4
 },
 "nbformat": 4,
 "nbformat_minor": 2
}
